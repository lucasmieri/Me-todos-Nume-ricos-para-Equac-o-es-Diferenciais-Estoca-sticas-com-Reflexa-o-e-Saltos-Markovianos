{
 "cells": [
  {
   "cell_type": "code",
   "execution_count": 1,
   "metadata": {},
   "outputs": [],
   "source": [
    "import numpy as np\n",
    "import matplotlib.pyplot as plt\n",
    "import seaborn as sns\n",
    "sns.set()\n",
    "%matplotlib inline"
   ]
  },
  {
   "cell_type": "code",
   "execution_count": 2,
   "metadata": {},
   "outputs": [],
   "source": [
    "r=np.random.RandomState(100)#exposes a number of methods for generating random numbers drawn from a variety of probability distributions\n",
    "lamb = 2; mu = 1; Xzero = 1;\n",
    "T = 1; N = 2**9; dt = float(T)/N #parametros\n",
    "M=1000\n",
    "Xerr=np.zeros((M,5));\n",
    "\n",
    "\n",
    "for s in range(M):\n",
    "    dW=np.sqrt(dt)*np.random.randn(1,N)\n",
    "    #dW=np.sqrt(dt)*np.random.normal(0.,1.,int(N));\n",
    "    \n",
    "    W = np.cumsum(dW);  # Return the cumulative sum of the elements along a given axis\n",
    "#encontrei um erro na minha primeira versão do código, usei a função randn, mas por algum motivo o resultado de Winc sempre era zero, acabei por trocar para random.normal\n",
    "    Xtrue = Xzero*np.exp((lamb-0.5*mu**2)*T+mu*W[-1])\n",
    "   # plt.plot(np.arange(0,T, dt), Xtrue)\n",
    "    #plt.title(\"all plots\")\n",
    "    for p in range(5):\n",
    "        R=2**p; L=N/R; Dt=R*dt\n",
    "        Xem=Xzero\n",
    "        for j in range(1, int(L)+1):\n",
    "            Winc=np.sum(dW[0][range(R*(j-1),R*j)])\n",
    "            Xem = Xem + Dt*lamb*Xem + mu*Xem*Winc\n",
    "        Xerr[s,p]=np.abs(Xem-Xtrue)\n",
    "        \n",
    "        "
   ]
  },
  {
   "cell_type": "code",
   "execution_count": 3,
   "metadata": {},
   "outputs": [
    {
     "data": {
      "text/plain": [
       "array([[ 0.0895196 ,  0.11828862,  0.10906877,  0.2119903 ,  0.2142473 ],\n",
       "       [-0.17436743,  0.03864751,  0.01345696, -0.46947505, -1.62598331],\n",
       "       [-0.3230625 , -0.22023492, -0.03303164, -1.66956675, -2.42164449],\n",
       "       ...,\n",
       "       [ 0.18259217,  0.11411334,  0.1375313 ,  0.24825468, -0.98354463],\n",
       "       [ 0.03880261,  0.2138624 ,  0.13718289, -0.0176866 ,  0.03834392],\n",
       "       [-0.05738818,  0.43586833, -0.12937842, -0.67887363,  0.9975513 ]])"
      ]
     },
     "execution_count": 3,
     "metadata": {},
     "output_type": "execute_result"
    }
   ],
   "source": [
    "\n",
    "Xerr\n"
   ]
  },
  {
   "cell_type": "code",
   "execution_count": 4,
   "metadata": {},
   "outputs": [
    {
     "data": {
      "text/plain": [
       "[0.001, 0.1, 0.0001, 1]"
      ]
     },
     "execution_count": 4,
     "metadata": {},
     "output_type": "execute_result"
    },
    {
     "data": {
      "image/png": "[encoded data removed]",
      "text/plain": [
       "<Figure size 432x288 with 1 Axes>"
      ]
     },
     "metadata": {},
     "output_type": "display_data"
    }
   ],
   "source": [
    "R = 4;dt = 1/N; Dt = R*dt; L = N//R; \n",
    "Xem = np.zeros(L);                 \n",
    "Xtemp = Xzero; \n",
    "for j in range(0, int(L)):\n",
    "  Winc = np.sum(dW[(R*(j-1)+R):(R*j+ R)]);\n",
    "  #na versão do mathlab o final da equação é apenas(R*j), entretanto isso resulta e Winc=0, como conheço pouco do mathlab não soube dizer o motivo.\n",
    "  \n",
    "  Xtemp = Xtemp + Dt*lamb*Xtemp + mu*Xtemp*Winc;\n",
    "  Xem[j] = Xtemp;\n",
    "\n",
    "time_EM = np.arange(0,T,Dt)\n",
    "Dtvals=dt*(np.power(2,range(5))) \n",
    "#dtvals= dt*(2.ˆ([0:4]);\n",
    "plt.loglog(Dtvals,np.mean(Xerr,0))\n",
    "plt.loglog(Dtvals,np.power(Dtvals,0.5))\n",
    "plt.axis([1e-3, 1e-1, 1e-4, 1])\n",
    "\n",
    "\n",
    "\n",
    "#reparei que o método não parece convergir sempre, a proximidade do método para o valor real difere muito dependendo do conjunto de dados.\n",
    "\n",
    "#ref: https://jtsulliv.github.io/stock-movement/"
   ]
  },
  {
   "cell_type": "code",
   "execution_count": null,
   "metadata": {},
   "outputs": [],
   "source": []
  },
  {
   "cell_type": "code",
   "execution_count": null,
   "metadata": {},
   "outputs": [],
   "source": []
  },
  {
   "cell_type": "code",
   "execution_count": null,
   "metadata": {},
   "outputs": [],
   "source": []
  },
  {
   "cell_type": "code",
   "execution_count": null,
   "metadata": {},
   "outputs": [],
   "source": []
  }
 ],
 "metadata": {
  "kernelspec": {
   "display_name": "Python 3",
   "language": "python",
   "name": "python3"
  },
  "language_info": {
   "codemirror_mode": {
    "name": "ipython",
    "version": 3
   },
   "file_extension": ".py",
   "mimetype": "text/x-python",
   "name": "python",
   "nbconvert_exporter": "python",
   "pygments_lexer": "ipython3",
   "version": "3.6.8"
  }
 },
 "nbformat": 4,
 "nbformat_minor": 2
}
