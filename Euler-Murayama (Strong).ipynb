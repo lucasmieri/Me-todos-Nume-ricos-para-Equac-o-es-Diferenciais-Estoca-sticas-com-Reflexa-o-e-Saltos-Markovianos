{
 "cells": [
  {
   "cell_type": "code",
   "execution_count": 1,
   "metadata": {},
   "outputs": [],
   "source": [
    "#ref : Higham(2001)\n",
    "\n",
    "import numpy as np\n",
    "import matplotlib.pyplot as plt\n",
    "from math import *\n",
    "from seaborn import *\n",
    "plt.style.use('classic')\n",
    "%matplotlib inline"
   ]
  },
  {
   "cell_type": "code",
   "execution_count": 2,
   "metadata": {},
   "outputs": [
    {
     "data": {
      "text/plain": [
       "'\\nλ\\nμ\\n'"
      ]
     },
     "execution_count": 2,
     "metadata": {},
     "output_type": "execute_result"
    }
   ],
   "source": [
    "r=np.random.RandomState(100)#exposes a number of methods for generating random numbers drawn from a variety of probability distributions\n",
    "λ= 2; μ= 1; Xzero= 1;\n",
    "T= 1; N=2**9; dt=float(T)/N; M= 1000;  #parameters\n",
    "'''\n",
    "λ\n",
    "μ\n",
    "'''"
   ]
  },
  {
   "cell_type": "code",
   "execution_count": 24,
   "metadata": {},
   "outputs": [
    {
     "name": "stdout",
     "output_type": "stream",
     "text": [
      "[[ 5.40771158  5.37923862  5.32305782  5.21366418  5.00605478]\n",
      " [13.29284085 13.3213138  13.37749461 13.48688825 13.69449764]\n",
      " [18.69693214 18.7254051  18.7815859  18.89097954 19.09858894]\n",
      " ...\n",
      " [ 3.2161965   3.18772354  3.13154274  3.0221491   2.8145397 ]\n",
      " [ 6.14915186  6.12067891  6.0644981   5.95510446  5.74749507]\n",
      " [ 4.43058403  4.45905698  4.51523779  4.62463143  4.83224082]]\n"
     ]
    }
   ],
   "source": [
    "Xerr=np.zeros((M,5))\n",
    "\n",
    "for s in range(M):\n",
    "    dW=np.sqrt(dt)*np.random.randn(1,N) #brownian increment\n",
    "    W=np.cumsum(dW) #Return the cumulative sum of the elements along a given axis.\n",
    "    Xtrue= Xzero*np.exp((λ-0.5*μ**2)*T+μ*W[-1]) \n",
    "    #http://mathesaurus.sourceforge.net/matlab-numpy.html\n",
    "    #matlab version w(end) -> to pyton w[-1] : return the last element\n",
    "    for p in range(5):\n",
    "        R=2**p; \n",
    "        Dt=R*dt; \n",
    "        L=N//R;\n",
    "        Xem=Xzero;\n",
    "        for j in range(1,L+1):\n",
    "            Winc = np.sum(dW[(R*(j-1)+R):(R*j+ R)]);\n",
    "         \n",
    "            Xem += Dt*λ*Xem + μ*Xem*Winc\n",
    "        Xerr[s,p]=np.abs(Xtrue-Xem)\n",
    "\n",
    "print(Xerr)"
   ]
  },
  {
   "cell_type": "code",
   "execution_count": 14,
   "metadata": {},
   "outputs": [
    {
     "data": {
      "image/png": "[encoded data removed]",
      "text/plain": [
       "<Figure size 432x288 with 1 Axes>"
      ]
     },
     "metadata": {},
     "output_type": "display_data"
    }
   ],
   "source": [
    "Dtvals=dt*(np.power(2,range(5)))\n",
    "plt.loglog(Dtvals, np.mean(Xerr,0))\n",
    "plt.loglog(Dtvals, np.power(Dtvals, 0.5))\n",
    "plt.axis([1e-3, 1e-1, 1e-4, 1])\n",
    "plt.xlabel('$\\Delta t$'); plt.ylabel('Sample average of |X(T)-X_L|');"
   ]
  },
  {
   "cell_type": "code",
   "execution_count": 17,
   "metadata": {},
   "outputs": [],
   "source": [
    "from sklearn.metrics import mean_squared_log_error\n",
    "from sklearn.metrics import accuracy_score\n",
    "#https://scikit-learn.org/stable/modules/model_evaluation.html"
   ]
  },
  {
   "cell_type": "code",
   "execution_count": null,
   "metadata": {},
   "outputs": [],
   "source": []
  },
  {
   "cell_type": "code",
   "execution_count": null,
   "metadata": {},
   "outputs": [],
   "source": []
  }
 ],
 "metadata": {
  "kernelspec": {
   "display_name": "Python 3",
   "language": "python",
   "name": "python3"
  },
  "language_info": {
   "codemirror_mode": {
    "name": "ipython",
    "version": 3
   },
   "file_extension": ".py",
   "mimetype": "text/x-python",
   "name": "python",
   "nbconvert_exporter": "python",
   "pygments_lexer": "ipython3",
   "version": "3.6.5"
  }
 },
 "nbformat": 4,
 "nbformat_minor": 2
}
