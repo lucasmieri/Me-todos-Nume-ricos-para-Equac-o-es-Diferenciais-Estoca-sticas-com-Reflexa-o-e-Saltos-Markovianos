{
 "cells": [
  {
   "cell_type": "code",
   "execution_count": 9,
   "metadata": {},
   "outputs": [],
   "source": [
    "import numpy as np\n",
    "import matplotlib.pyplot as plt\n",
    "import seaborn as sns\n",
    "sns.set()\n",
    "%matplotlib inline"
   ]
  },
  {
   "cell_type": "code",
   "execution_count": 10,
   "metadata": {},
   "outputs": [],
   "source": [
    "r=np.random.RandomState(100)#exposes a number of methods for generating random numbers drawn from a variety of probability distributions\n",
    "lamb = 2; mu = 1; Xzero = 1;\n",
    "T = 1; N = 2**9; dt = float(T)/N #parametros\n",
    "M=1000\n",
    "Xerr=np.zeros((M,5));\n",
    "\n",
    "\n",
    "for s in range(M):\n",
    "    dW=np.sqrt(dt)*np.random.randn(1,N)\n",
    "    #dW=np.sqrt(dt)*np.random.normal(0.,1.,int(N));\n",
    "    \n",
    "    W = np.cumsum(dW);  # Return the cumulative sum of the elements along a given axis\n",
    "#encontrei um erro na minha primeira versão do código, usei a função randn, mas por algum motivo o resultado de Winc sempre era zero, acabei por trocar para random.normal\n",
    "    Xtrue = Xzero*np.exp((lamb-0.5*mu**2)*T+mu*W[-1])\n",
    "   # plt.plot(np.arange(0,T, dt), Xtrue)\n",
    "    #plt.title(\"all plots\")\n",
    "    for p in range(5):\n",
    "        R=2**p; L=N/R; Dt=R*dt\n",
    "        Xem=Xzero\n",
    "        for j in range(1, int(L)+1):\n",
    "            Winc=np.sum(dW[0][range(R*(j-1),R*j)])\n",
    "            Xem = Xem + Dt*lamb*Xem + mu*Xem*Winc\n",
    "        Xerr[s,p]=np.abs(Xem-Xtrue)\n",
    "        \n",
    "        "
   ]
  },
  {
   "cell_type": "code",
   "execution_count": 11,
   "metadata": {},
   "outputs": [
    {
     "data": {
      "text/plain": [
       "array([[0.0723199 , 0.17773353, 0.66182686, 0.44374197, 0.33988825],\n",
       "       [0.02343929, 0.06205881, 0.16761382, 0.1626322 , 0.20772995],\n",
       "       [0.03039796, 0.06191132, 0.09524543, 0.2513699 , 0.31952761],\n",
       "       ...,\n",
       "       [0.18782774, 0.3089339 , 0.02984008, 0.31339945, 1.01851617],\n",
       "       [0.68163111, 0.58565006, 0.81979905, 0.94522523, 3.22477753],\n",
       "       [0.06133098, 0.03719595, 0.04239845, 0.14755514, 0.01341948]])"
      ]
     },
     "execution_count": 11,
     "metadata": {},
     "output_type": "execute_result"
    }
   ],
   "source": [
    "\n",
    "Xerr\n"
   ]
  },
  {
   "cell_type": "code",
   "execution_count": 14,
   "metadata": {},
   "outputs": [
    {
     "data": {
      "text/plain": [
       "[0.001, 0.1, 0.0001, 1]"
      ]
     },
     "execution_count": 14,
     "metadata": {},
     "output_type": "execute_result"
    },
    {
     "data": {
      "image/png": "[encoded data removed]",
      "text/plain": [
       "<Figure size 432x288 with 1 Axes>"
      ]
     },
     "metadata": {},
     "output_type": "display_data"
    }
   ],
   "source": [
    "#R = 4;dt = 1/N; Dt = R*dt; L = N//R; \n",
    "#Xem = np.zeros(L);                 \n",
    "#Xtemp = Xzero; \n",
    "#for j in range(0, int(L)):\n",
    "#  Winc = np.sum(dW[(R*(j-1)+R):(R*j+ R)]);\n",
    "#  #na versão do mathlab o final da equação é apenas(R*j), entretanto isso resulta e Winc=0, como conheço pouco do mathlab não soube dizer o motivo.\n",
    "  \n",
    "#  Xtemp = Xtemp + Dt*lamb*Xtemp + mu*Xtemp*Winc;\n",
    "#  Xem[j] = Xtemp;\n",
    "\n",
    "time_EM = np.arange(0,T,Dt)\n",
    "Dtvals=dt*(np.power(2,range(5))) \n",
    "#dtvals= dt*(2.ˆ([0:4]);\n",
    "plt.loglog(Dtvals,np.mean(Xerr,0))\n",
    "plt.loglog(Dtvals,np.power(Dtvals,0.5))\n",
    "plt.axis([1e-3, 1e-1, 1e-4, 1])\n",
    "\n",
    "\n",
    "\n",
    "#reparei que o método não parece convergir sempre, a proximidade do método para o valor real difere muito dependendo do conjunto de dados.\n",
    "\n",
    "#ref: https://jtsulliv.github.io/stock-movement/"
   ]
  },
  {
   "cell_type": "code",
   "execution_count": 8,
   "metadata": {},
   "outputs": [
    {
     "data": {
      "text/plain": [
       "array([0.00195312, 0.00390625, 0.0078125 , 0.015625  , 0.03125   ])"
      ]
     },
     "execution_count": 8,
     "metadata": {},
     "output_type": "execute_result"
    }
   ],
   "source": [
    "Dtvals\n"
   ]
  },
  {
   "cell_type": "code",
   "execution_count": null,
   "metadata": {},
   "outputs": [],
   "source": []
  },
  {
   "cell_type": "code",
   "execution_count": null,
   "metadata": {},
   "outputs": [],
   "source": []
  },
  {
   "cell_type": "code",
   "execution_count": null,
   "metadata": {},
   "outputs": [],
   "source": []
  }
 ],
 "metadata": {
  "kernelspec": {
   "display_name": "Python 3",
   "language": "python",
   "name": "python3"
  },
  "language_info": {
   "codemirror_mode": {
    "name": "ipython",
    "version": 3
   },
   "file_extension": ".py",
   "mimetype": "text/x-python",
   "name": "python",
   "nbconvert_exporter": "python",
   "pygments_lexer": "ipython3",
   "version": "3.7.4"
  }
 },
 "nbformat": 4,
 "nbformat_minor": 2
}
