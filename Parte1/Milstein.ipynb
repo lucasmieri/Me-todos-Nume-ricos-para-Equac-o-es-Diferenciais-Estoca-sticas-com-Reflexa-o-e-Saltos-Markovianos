{
 "cells": [
  {
   "cell_type": "code",
   "execution_count": 3,
   "metadata": {},
   "outputs": [],
   "source": [
    "import numpy as np\n",
    "import matplotlib.pyplot as plt\n",
    "import seaborn as sns\n",
    "sns.set()\n",
    "%matplotlib inline"
   ]
  },
  {
   "cell_type": "code",
   "execution_count": 59,
   "metadata": {},
   "outputs": [],
   "source": [
    "#MILSTRONG Test strong convergence of Milstein\n",
    "#Solves   dX = r*X*(K-X) dt + beta*X dW,  X(0) = Xzero,\n",
    "\n",
    "\n",
    "np.random.seed(100)\n",
    "#var declaration\n",
    "r=2 \n",
    "K=1 \n",
    "beta=0.25 \n",
    "Xzero=0.5\n",
    "T=1 \n",
    "N=2**11 \n",
    "dt=float(T)/N\n",
    "M=500\n",
    "R = np.array([1, 16, 32,64, 128])# milstein step size\n",
    "dW = np.sqrt(dt)*np.random.randn(M,N) #brownian increments\n",
    "Xmil = np.zeros((M,5)) \n"
   ]
  },
  {
   "cell_type": "code",
   "execution_count": 54,
   "metadata": {},
   "outputs": [
    {
     "data": {
      "text/plain": [
       "array([[0.83673546, 0.83662473, 0.83663867, 0.83882946, 0.84272145],\n",
       "       [0.98862578, 0.98906155, 0.99121461, 0.9932772 , 0.99912868],\n",
       "       [0.69235601, 0.69291534, 0.69304787, 0.69358885, 0.69608568],\n",
       "       ...,\n",
       "       [1.0509024 , 1.05185614, 1.05057729, 1.05165516, 1.04733572],\n",
       "       [0.86605925, 0.86642612, 0.86832474, 0.86855741, 0.87532846],\n",
       "       [0.68309825, 0.68364719, 0.68475779, 0.68650069, 0.69179502]])"
      ]
     },
     "execution_count": 54,
     "metadata": {},
     "output_type": "execute_result"
    }
   ],
   "source": [
    "for p in range(5):\n",
    "    Dt=R[p]*dt;\n",
    "    L=float(N)/R[p]\n",
    "    Xtemp=Xzero*np.ones(M)\n",
    "    for j in range (1, int(L)+1):\n",
    "        Winc=np.sum(dW[:,range(R[p]*(j-1), R[p]*j)], axis=1) #range(start, stop, step)\n",
    "        \n",
    "        #axis : axis along which we want to calculate the sum value. Otherwise, \n",
    "        #it will consider arr to be flattened(works on all the axis). \n",
    "        #axis = 0 means along the column and axis = 1 means working along the row.\n",
    "        \n",
    "        Xtemp = Xtemp+ Dt*r*Xtemp*(K-Xtemp) + beta*Xtemp*Winc+ 0.5*beta**2*Xtemp*(np.power(Winc,2)-Dt)\n",
    "    \n",
    "    Xmil[:,p]=Xtemp\n",
    "Xmil\n"
   ]
  },
  {
   "cell_type": "code",
   "execution_count": 55,
   "metadata": {},
   "outputs": [
    {
     "data": {
      "text/plain": [
       "array([[1.10733556e-04, 9.67948418e-05, 2.09399322e-03, 5.98598570e-03],\n",
       "       [4.35771468e-04, 2.58883021e-03, 4.65142809e-03, 1.05029085e-02],\n",
       "       [5.59329219e-04, 6.91853939e-04, 1.23283394e-03, 3.72967212e-03],\n",
       "       ...,\n",
       "       [9.53736858e-04, 3.25116007e-04, 7.52753867e-04, 3.56668592e-03],\n",
       "       [3.66870740e-04, 2.26548420e-03, 2.49815454e-03, 9.26920860e-03],\n",
       "       [5.48939632e-04, 1.65953694e-03, 3.40243725e-03, 8.69676514e-03]])"
      ]
     },
     "execution_count": 55,
     "metadata": {},
     "output_type": "execute_result"
    }
   ],
   "source": [
    "    Xref=Xmil[:,0]\n",
    "    Xerr=np.abs(Xmil[:, range(1,5)]-np.tile(Xref, [4,1]).T)\n",
    "    #np.tile: Construct an array by repeating \n",
    "    #A number of times givern by reps\n",
    "    Xerr"
   ]
  },
  {
   "cell_type": "code",
   "execution_count": 56,
   "metadata": {},
   "outputs": [
    {
     "data": {
      "text/plain": [
       "0.0028912608321020896"
      ]
     },
     "execution_count": 56,
     "metadata": {},
     "output_type": "execute_result"
    }
   ],
   "source": [
    "np.mean(Xerr)\n",
    "#mean error"
   ]
  },
  {
   "cell_type": "code",
   "execution_count": 57,
   "metadata": {},
   "outputs": [
    {
     "data": {
      "text/plain": [
       "array([0.0078125, 0.015625 , 0.03125  , 0.0625   ])"
      ]
     },
     "execution_count": 57,
     "metadata": {},
     "output_type": "execute_result"
    }
   ],
   "source": [
    "Dtvals=dt*R[1:5]\n",
    "Dtvals"
   ]
  },
  {
   "cell_type": "code",
   "execution_count": 58,
   "metadata": {},
   "outputs": [
    {
     "data": {
      "text/plain": [
       "Text(0.5, 1.0, 'milstein')"
      ]
     },
     "execution_count": 58,
     "metadata": {},
     "output_type": "execute_result"
    },
    {
     "data": {
      "image/png": "[encoded data removed]",
      "text/plain": [
       "<Figure size 432x288 with 1 Axes>"
      ]
     },
     "metadata": {},
     "output_type": "display_data"
    }
   ],
   "source": [
    "plt.loglog(Dtvals,np.mean(Xerr,0),'b*-')\n",
    "plt.loglog(Dtvals,Dtvals,'r--')\n",
    "plt.axis([1e-3, 1e-1, 1e-4, 1])\n",
    "#plt.xlabel('Delta t'); plt.ylabel('Sample average of |X(T)-Xl|')\n",
    "plt.title('Milstein')"
   ]
  },
  {
   "cell_type": "code",
   "execution_count": null,
   "metadata": {},
   "outputs": [],
   "source": []
  },
  {
   "cell_type": "code",
   "execution_count": null,
   "metadata": {},
   "outputs": [],
   "source": []
  }
 ],
 "metadata": {
  "kernelspec": {
   "display_name": "Python 3",
   "language": "python",
   "name": "python3"
  },
  "language_info": {
   "codemirror_mode": {
    "name": "ipython",
    "version": 3
   },
   "file_extension": ".py",
   "mimetype": "text/x-python",
   "name": "python",
   "nbconvert_exporter": "python",
   "pygments_lexer": "ipython3",
   "version": "3.6.8"
  }
 },
 "nbformat": 4,
 "nbformat_minor": 2
}
