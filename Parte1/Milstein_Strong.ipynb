{
 "cells": [
  {
   "cell_type": "code",
   "execution_count": 1,
   "metadata": {},
   "outputs": [],
   "source": [
    "import numpy as np\n",
    "import matplotlib.pyplot as plt\n",
    "import seaborn as sns\n",
    "sns.set()\n",
    "%matplotlib inline"
   ]
  },
  {
   "cell_type": "code",
   "execution_count": 2,
   "metadata": {},
   "outputs": [
    {
     "data": {
      "text/plain": [
       "Text(0.5,1,'Milstein Strong')"
      ]
     },
     "execution_count": 2,
     "metadata": {},
     "output_type": "execute_result"
    },
    {
     "data": {
      "image/png": "[encoded data removed]",
      "text/plain": [
       "<Figure size 432x288 with 1 Axes>"
      ]
     },
     "metadata": {},
     "output_type": "display_data"
    }
   ],
   "source": [
    "np.random.seed(100)\n",
    "r=2 \n",
    "K=1 \n",
    "beta=0.25 \n",
    "Xzero=0.5\n",
    "T=1 \n",
    "N=2**11 \n",
    "dt=float(T)/N\n",
    "M=500\n",
    "R = np.array([1, 16, 32,64, 128])\n",
    "dW = np.sqrt(dt)*np.random.randn(M,N) \n",
    "Xmil = np.zeros((M,5))\n",
    "for p in range(5):\n",
    "    Dt=R[p]*dt;\n",
    "    L=float(N)/R[p]\n",
    "    Xtemp=Xzero*np.ones(M)\n",
    "    for j in range (1, int(L)+1):\n",
    "        Winc=np.sum(dW[:,range(R[p]*(j-1), R[p]*j)], axis=1) #range(start, stop, step)\n",
    "        Xtemp = Xtemp+ Dt*r*Xtemp*(K-Xtemp) + beta*Xtemp*Winc+ 0.5*beta**2*Xtemp*(np.power(Winc,2)-Dt)\n",
    "    \n",
    "    Xmil[:,p]=Xtemp\n",
    "    \n",
    "Xref=Xmil[:,0]\n",
    "Xerr=np.abs(Xmil[:, range(1,5)]-np.tile(Xref, [4,1]).T)\n",
    "Dtvals=dt*R[1:5]\n",
    "\n",
    "plt.loglog(Dtvals,np.mean(Xerr,0),'b*-')\n",
    "plt.loglog(Dtvals,Dtvals,'r--')\n",
    "plt.axis([1e-3, 1e-1, 1e-4, 1])\n",
    "plt.title('Milstein Strong')"
   ]
  },
  {
   "cell_type": "code",
   "execution_count": null,
   "metadata": {},
   "outputs": [],
   "source": []
  }
 ],
 "metadata": {
  "kernelspec": {
   "display_name": "Python 3",
   "language": "python",
   "name": "python3"
  },
  "language_info": {
   "codemirror_mode": {
    "name": "ipython",
    "version": 3
   },
   "file_extension": ".py",
   "mimetype": "text/x-python",
   "name": "python",
   "nbconvert_exporter": "python",
   "pygments_lexer": "ipython3",
   "version": "3.7.4"
  }
 },
 "nbformat": 4,
 "nbformat_minor": 2
}
