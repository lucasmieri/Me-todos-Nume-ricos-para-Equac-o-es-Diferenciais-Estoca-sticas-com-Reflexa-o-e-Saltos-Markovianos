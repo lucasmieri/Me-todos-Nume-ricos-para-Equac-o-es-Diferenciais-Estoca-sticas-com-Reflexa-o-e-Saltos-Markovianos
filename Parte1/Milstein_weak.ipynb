{
 "cells": [
  {
   "cell_type": "code",
   "execution_count": 11,
   "metadata": {},
   "outputs": [],
   "source": [
    "import numpy as np\n",
    "import matplotlib.pyplot as plt\n",
    "import seaborn as sns\n",
    "sns.set()\n",
    "%matplotlib inline"
   ]
  },
  {
   "cell_type": "code",
   "execution_count": 13,
   "metadata": {},
   "outputs": [],
   "source": [
    "\n",
    "\n",
    "\n",
    "np.random.seed(100)\n",
    "\n",
    "r=2 \n",
    "K=1 \n",
    "beta=0.25 \n",
    "Xzero=0.5\n",
    "T=1 \n",
    "N=2**11 \n",
    "dt=float(T)/N\n",
    "M=500\n",
    "R = np.array([1, 16, 32,64, 128])# milstein step size\n",
    "dW = np.sqrt(dt)*np.random.randn(M,N) #brownian increments\n",
    "Xmil = np.zeros((M,5))"
   ]
  },
  {
   "cell_type": "code",
   "execution_count": 39,
   "metadata": {},
   "outputs": [],
   "source": [
    "for p in range(5):\n",
    "    Dt=R[p]*dt;\n",
    "    L=float(N)/R[p]\n",
    "    Xtemp=Xzero*np.ones(M)\n",
    "    for j in range (1, int(L)+1):\n",
    "        Winc=np.sum(dW[:,range(R[p]*(j-1), R[p]*j)], axis=1) \n",
    "        Xtemp = Xtemp+ Dt*r*Xtemp*(K-Xtemp) + beta*Xtemp*Winc+ 0.5*beta**2*Xtemp*(np.power(Winc,2)-Dt)\n",
    "    Xmil[:,p]=Xtemp\n",
    "Xerr=np.abs(Xmil[:, range(1,5)]-np.tile(Xref, [4,1]).T)"
   ]
  },
  {
   "cell_type": "code",
   "execution_count": 40,
   "metadata": {},
   "outputs": [
    {
     "data": {
      "text/plain": [
       "array([[1.10733556e-04, 9.67948418e-05, 2.09399322e-03, 5.98598570e-03],\n",
       "       [4.35771468e-04, 2.58883021e-03, 4.65142809e-03, 1.05029085e-02],\n",
       "       [5.59329219e-04, 6.91853939e-04, 1.23283394e-03, 3.72967212e-03],\n",
       "       ...,\n",
       "       [9.53736858e-04, 3.25116007e-04, 7.52753867e-04, 3.56668592e-03],\n",
       "       [3.66870740e-04, 2.26548420e-03, 2.49815454e-03, 9.26920860e-03],\n",
       "       [5.48939632e-04, 1.65953694e-03, 3.40243725e-03, 8.69676514e-03]])"
      ]
     },
     "execution_count": 40,
     "metadata": {},
     "output_type": "execute_result"
    }
   ],
   "source": [
    "Xerr"
   ]
  },
  {
   "cell_type": "code",
   "execution_count": 45,
   "metadata": {},
   "outputs": [
    {
     "name": "stdout",
     "output_type": "stream",
     "text": [
      "[0.00072847 0.00145333 0.00298706 0.00639618]\n"
     ]
    },
    {
     "data": {
      "image/png": "[encoded data removed]",
      "text/plain": [
       "<Figure size 432x288 with 1 Axes>"
      ]
     },
     "metadata": {},
     "output_type": "display_data"
    }
   ],
   "source": [
    "Dtvals = np.multiply(dt,R[1:5])\n",
    "plt.loglog(Dtvals,np.mean(Xerr,0),'b*-')\n",
    "plt.loglog(Dtvals,Dtvals,'r--')\n",
    "plt.axis([1e-3, 1e-1, 1e-4, 1])\n",
    "plt.title('Milstein Weak')\n",
    "print(np.mean(Xerr,0))"
   ]
  },
  {
   "cell_type": "code",
   "execution_count": null,
   "metadata": {},
   "outputs": [],
   "source": []
  },
  {
   "cell_type": "code",
   "execution_count": null,
   "metadata": {},
   "outputs": [],
   "source": []
  }
 ],
 "metadata": {
  "kernelspec": {
   "display_name": "Python 3",
   "language": "python",
   "name": "python3"
  },
  "language_info": {
   "codemirror_mode": {
    "name": "ipython",
    "version": 3
   },
   "file_extension": ".py",
   "mimetype": "text/x-python",
   "name": "python",
   "nbconvert_exporter": "python",
   "pygments_lexer": "ipython3",
   "version": "3.7.4"
  }
 },
 "nbformat": 4,
 "nbformat_minor": 2
}
