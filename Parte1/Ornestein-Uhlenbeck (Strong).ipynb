{
 "cells": [
  {
   "cell_type": "code",
   "execution_count": 63,
   "metadata": {},
   "outputs": [],
   "source": [
    "import numpy as np\n",
    "import matplotlib.pyplot as plt\n",
    "\n",
    "import seaborn as sns\n",
    "sns.set()\n",
    "%matplotlib inline"
   ]
  },
  {
   "cell_type": "code",
   "execution_count": 134,
   "metadata": {},
   "outputs": [
    {
     "data": {
      "text/plain": [
       "<Figure size 720x576 with 0 Axes>"
      ]
     },
     "metadata": {},
     "output_type": "display_data"
    }
   ],
   "source": [
    "\n",
    "lamb=2; mu=1; Xzero=1\n",
    "T=1; N=2**9\n",
    "dt=float(T)/N\n",
    "\n",
    "\n",
    "\n",
    "R=1; Dt=R*dt; L=N/R; \n",
    "\n",
    "Xem=np.zeros(int(L)); Xem=np.insert(Xem, 0, Xzero)\n",
    "M=len(Xem)\n",
    "Xerr_strong=np.zeros((M,5));\n",
    "Xerr_weak=np.zeros((M,5));\n",
    "\n",
    "t=np.linspace(0,T,N+1)\n",
    "\n",
    "\n",
    "for s in range(M):\n",
    "    Dw=np.sqrt(dt)*np.random.randn(1,N)\n",
    "    W=np.cumsum(Dw)\n",
    "    Xtrue=Xzero*np.exp((-lamb)*t[1:]+mu*W); Xtrue=np.insert(Xtrue,0,Xzero)\n",
    "    for p in range(0,5):\n",
    "        R=2**p; L=N/R; Dt=R*dt\n",
    "        for j in range(1, int(L)+1):\n",
    "            Winc=np.sum(Dw[0][range(R*(j-1),R*j)])\n",
    "            Xem[j] = Xem[j-1] + Dt*lamb*Xem[j-1]+ mu*Winc*Xem[j-1]\n",
    "        Xerr_strong[:, p]=np.abs(Xem-Xtrue)\n",
    "fig = plt.figure(figsize=(10, 8))\n",
    "\n"
   ]
  },
  {
   "cell_type": "code",
   "execution_count": 132,
   "metadata": {},
   "outputs": [
    {
     "data": {
      "text/plain": [
       "array([[1.        , 1.        , 1.        , 1.        , 1.        ],\n",
       "       [0.97206489, 0.97206489, 0.97206489, 0.97206489, 0.97206489],\n",
       "       [0.98906166, 0.98906166, 0.98906166, 0.98906166, 0.98906166],\n",
       "       ...,\n",
       "       [0.64475133, 0.64475133, 0.64475133, 0.64475133, 0.64475133],\n",
       "       [0.62568326, 0.62568326, 0.62568326, 0.62568326, 0.62568326],\n",
       "       [0.63327909, 0.63327909, 0.63327909, 0.63327909, 0.63327909]])"
      ]
     },
     "execution_count": 132,
     "metadata": {},
     "output_type": "execute_result"
    }
   ],
   "source": [
    "Xerr_strong"
   ]
  },
  {
   "cell_type": "code",
   "execution_count": 129,
   "metadata": {},
   "outputs": [
    {
     "data": {
      "text/plain": [
       "array([1.88788996, 2.25455544, 2.44991252, 2.56386424, 2.62955259])"
      ]
     },
     "execution_count": 129,
     "metadata": {},
     "output_type": "execute_result"
    }
   ],
   "source": [
    "np.mean(Xerr_strong, 0)"
   ]
  },
  {
   "cell_type": "code",
   "execution_count": 73,
   "metadata": {},
   "outputs": [
    {
     "data": {
      "text/plain": [
       "array([0.98892349, 0.97166284, 0.96216739, 0.96358404, 0.96330077])"
      ]
     },
     "execution_count": 73,
     "metadata": {},
     "output_type": "execute_result"
    }
   ],
   "source": [
    "np.mean(Xerr_strong, 0)"
   ]
  },
  {
   "cell_type": "code",
   "execution_count": 133,
   "metadata": {},
   "outputs": [
    {
     "data": {
      "text/plain": [
       "[<matplotlib.lines.Line2D at 0x108f1c50>]"
      ]
     },
     "execution_count": 133,
     "metadata": {},
     "output_type": "execute_result"
    },
    {
     "data": {
      "image/png": "[encoded data removed]",
      "text/plain": [
       "<Figure size 432x288 with 1 Axes>"
      ]
     },
     "metadata": {},
     "output_type": "display_data"
    }
   ],
   "source": [
    "Dtvals=np.power(float(2),[x-10 for x in range(1,6)])\n",
    "plt.loglog(Dtvals, np.mean(Xerr_strong, 0), '-b')\n",
    "plt.loglog(Dtvals,Dtvals)"
   ]
  },
  {
   "cell_type": "code",
   "execution_count": 126,
   "metadata": {},
   "outputs": [
    {
     "data": {
      "text/plain": [
       "[<matplotlib.lines.Line2D at 0x10696978>]"
      ]
     },
     "execution_count": 126,
     "metadata": {},
     "output_type": "execute_result"
    },
    {
     "data": {
      "image/png": "[encoded data removed]",
      "text/plain": [
       "<Figure size 432x288 with 1 Axes>"
      ]
     },
     "metadata": {},
     "output_type": "display_data"
    }
   ],
   "source": [
    "Dtvals=dt*(np.power(1.5,range(5))) \n",
    "plt.loglog(Dtvals,np.mean(Xerr_strong, 0))\n",
    "plt.loglog(Dtvals, Dtvals)\n",
    "#plt.axis([1e-4, 1e-1, 1e-3, 2.5])"
   ]
  },
  {
   "cell_type": "code",
   "execution_count": 127,
   "metadata": {},
   "outputs": [
    {
     "data": {
      "text/plain": [
       "array([0.00097656, 0.00146484, 0.00219727, 0.0032959 , 0.00494385])"
      ]
     },
     "execution_count": 127,
     "metadata": {},
     "output_type": "execute_result"
    }
   ],
   "source": [
    "Dtvals"
   ]
  },
  {
   "cell_type": "code",
   "execution_count": null,
   "metadata": {},
   "outputs": [],
   "source": []
  }
 ],
 "metadata": {
  "kernelspec": {
   "display_name": "Python 3",
   "language": "python",
   "name": "python3"
  },
  "language_info": {
   "codemirror_mode": {
    "name": "ipython",
    "version": 3
   },
   "file_extension": ".py",
   "mimetype": "text/x-python",
   "name": "python",
   "nbconvert_exporter": "python",
   "pygments_lexer": "ipython3",
   "version": "3.6.5"
  }
 },
 "nbformat": 4,
 "nbformat_minor": 2
}
