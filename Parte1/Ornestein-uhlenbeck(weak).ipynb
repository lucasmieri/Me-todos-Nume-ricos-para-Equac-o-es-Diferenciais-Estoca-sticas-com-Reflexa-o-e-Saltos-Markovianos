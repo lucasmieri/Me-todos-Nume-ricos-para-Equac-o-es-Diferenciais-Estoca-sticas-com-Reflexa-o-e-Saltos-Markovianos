{
 "cells": [
  {
   "cell_type": "code",
   "execution_count": 1,
   "metadata": {},
   "outputs": [],
   "source": [
    "import numpy as np\n",
    "import matplotlib.pyplot as plt\n",
    "import seaborn as sns\n",
    "sns.set()\n",
    "%matplotlib inline"
   ]
  },
  {
   "cell_type": "code",
   "execution_count": 60,
   "metadata": {},
   "outputs": [
    {
     "name": "stdout",
     "output_type": "stream",
     "text": [
      "1 512.0 0.001953125\n",
      "2 256.0 0.00390625\n",
      "4 128.0 0.0078125\n",
      "8 64.0 0.015625\n",
      "16 32.0 0.03125\n",
      "32 16.0 0.0625\n",
      "64 8.0 0.125\n",
      "[0.47808063 0.186309   0.24162014 0.59152311 0.43029173 0.78365278\n",
      " 0.60281353]\n",
      "[1. 0. 0. 0. 0. 0. 0.]\n"
     ]
    }
   ],
   "source": [
    "lamb=2; mu=1; Xzero=1\n",
    "T=1; N=2**9\n",
    "dt=float(T)/N\n",
    "\n",
    "\n",
    "\n",
    "R=1; Dt=R*dt; L=N/R; \n",
    "\n",
    "Xem=np.zeros(int(L)); Xem=np.insert(Xem, 0, Xzero)\n",
    "M=len(Xem)\n",
    "\n",
    "\n",
    "t=np.linspace(0,T,N+1)\n",
    "\n",
    "\n",
    "Xerr=np.zeros(6); Xerr=np.insert(Xerr, 0, Xzero)\n",
    "\n",
    "Xtrue_aux=np.zeros(6); Xtrue_aux=np.insert(Xtrue_aux, 0, Xzero)\n",
    "for p in range(0,7):\n",
    "    Dw=np.sqrt(dt)*np.random.randn(1,N)\n",
    "    W=np.cumsum(Dw)\n",
    "    Xtrue=Xzero*np.exp((-lamb)*t[1:]+mu*W); Xtrue=np.insert(Xtrue,0,Xzero)\n",
    "    Xtrue_aux[p]=np.mean(Xtrue)\n",
    "    R=2**p; L=N/R; Dt=R*dt\n",
    "    print(R, L, Dt)\n",
    "    for j in range(1, int(L)+1):\n",
    "        Winc=np.sum(Dw[0][range(R*(j-1),R*j)])\n",
    "        Xem[j] = Xem[j-1] + Dt*lamb*Xem[j-1]+ mu*Winc*Xem[j-1]\n",
    "print(Xtrue_aux)\n",
    "print(Xerr)\n",
    "Xerr=np.abs(Xerr- Xtrue_aux)"
   ]
  },
  {
   "cell_type": "code",
   "execution_count": 29,
   "metadata": {},
   "outputs": [
    {
     "data": {
      "text/plain": [
       "array([3.90514435, 4.17880477, 4.31980093, 4.30617543, 4.33851991,\n",
       "       3.9794785 , 4.38596208])"
      ]
     },
     "execution_count": 29,
     "metadata": {},
     "output_type": "execute_result"
    }
   ],
   "source": [
    "Xerr"
   ]
  },
  {
   "cell_type": "code",
   "execution_count": 59,
   "metadata": {},
   "outputs": [
    {
     "data": {
      "text/plain": [
       "[<matplotlib.lines.Line2D at 0xe4cf780>]"
      ]
     },
     "execution_count": 59,
     "metadata": {},
     "output_type": "execute_result"
    },
    {
     "data": {
      "image/png": "[encoded data removed]",
      "text/plain": [
       "<Figure size 432x288 with 1 Axes>"
      ]
     },
     "metadata": {},
     "output_type": "display_data"
    }
   ],
   "source": [
    "Dtvals=dt*(np.power(2.5,range(7))) \n",
    "plt.loglog(Dtvals, Xerr)\n",
    "plt.loglog(Dtvals,Dtvals)\n",
    "#plt.axis([1e-3, 1e-1, 1e-4, 1])"
   ]
  },
  {
   "cell_type": "markdown",
   "metadata": {},
   "source": [
    "plt.loglog(Dtvals, Xerr)"
   ]
  },
  {
   "cell_type": "code",
   "execution_count": 57,
   "metadata": {},
   "outputs": [
    {
     "data": {
      "text/plain": [
       "array([0.00195312, 0.00488281, 0.01220703, 0.03051758, 0.07629395])"
      ]
     },
     "execution_count": 57,
     "metadata": {},
     "output_type": "execute_result"
    }
   ],
   "source": [
    "Dtvals=dt*(np.power(2.5,range(5))) \n",
    "Dtvals"
   ]
  },
  {
   "cell_type": "code",
   "execution_count": 51,
   "metadata": {},
   "outputs": [
    {
     "data": {
      "text/plain": [
       "0.001953125"
      ]
     },
     "execution_count": 51,
     "metadata": {},
     "output_type": "execute_result"
    }
   ],
   "source": [
    "dt"
   ]
  },
  {
   "cell_type": "code",
   "execution_count": null,
   "metadata": {},
   "outputs": [],
   "source": []
  }
 ],
 "metadata": {
  "kernelspec": {
   "display_name": "Python 3",
   "language": "python",
   "name": "python3"
  },
  "language_info": {
   "codemirror_mode": {
    "name": "ipython",
    "version": 3
   },
   "file_extension": ".py",
   "mimetype": "text/x-python",
   "name": "python",
   "nbconvert_exporter": "python",
   "pygments_lexer": "ipython3",
   "version": "3.6.5"
  }
 },
 "nbformat": 4,
 "nbformat_minor": 2
}
