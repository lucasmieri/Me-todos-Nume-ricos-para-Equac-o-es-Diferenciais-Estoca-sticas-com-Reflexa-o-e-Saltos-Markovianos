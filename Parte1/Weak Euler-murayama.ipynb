{
 "cells": [
  {
   "cell_type": "code",
   "execution_count": 5,
   "metadata": {},
   "outputs": [],
   "source": [
    "import numpy as np\n",
    "import matplotlib.pyplot as plt\n",
    "import seaborn as sns\n",
    "%matplotlib inline\n",
    "sns.set()"
   ]
  },
  {
   "cell_type": "code",
   "execution_count": 6,
   "metadata": {},
   "outputs": [],
   "source": [
    "r=np.random.RandomState(100)\n",
    "lamb=2; mu=0.1;\n",
    "Xzero=1; T=1; M=5000;\n",
    "Xem=np.zeros((5,1))\n"
   ]
  },
  {
   "cell_type": "code",
   "execution_count": 7,
   "metadata": {},
   "outputs": [],
   "source": [
    "for p in range(5):\n",
    "    Dt = 2**(p-10); L=float(T)/Dt\n",
    "    Xtemp=Xzero*np.ones((M,1))\n",
    "    for j in range(1,int(L)+1):\n",
    "        Winc=np.sqrt(Dt)*np.random.randn(M)\n",
    "        Xtemp += Dt*lamb*Xtemp + mu*np.multiply(Xtemp.T,Winc).T\n",
    "    Xem[p] = np.mean(Xtemp)\n",
    "Xerr = np.abs(Xem - np.exp(lamb))"
   ]
  },
  {
   "cell_type": "code",
   "execution_count": 8,
   "metadata": {},
   "outputs": [
    {
     "data": {
      "text/plain": [
       "[0.001, 0.1, 0.0001, 1]"
      ]
     },
     "execution_count": 8,
     "metadata": {},
     "output_type": "execute_result"
    },
    {
     "data": {
      "image/png": "[encoded data removed]",
      "text/plain": [
       "<Figure size 432x288 with 1 Axes>"
      ]
     },
     "metadata": {},
     "output_type": "display_data"
    }
   ],
   "source": [
    "Dtvals=np.power(float(2),[x-10 for x in range(1,6)])\n",
    "plt.loglog(Dtvals, Xerr)\n",
    "plt.loglog(Dtvals,Dtvals)\n",
    "plt.axis([1e-3, 1e-1, 1e-4, 1])"
   ]
  },
  {
   "cell_type": "code",
   "execution_count": 25,
   "metadata": {},
   "outputs": [
    {
     "data": {
      "text/plain": [
       "array([[7.37169449],\n",
       "       [7.36966494],\n",
       "       [7.32694811],\n",
       "       [7.29133689],\n",
       "       [7.16345817]])"
      ]
     },
     "execution_count": 25,
     "metadata": {},
     "output_type": "execute_result"
    }
   ],
   "source": [
    "Xem"
   ]
  },
  {
   "cell_type": "code",
   "execution_count": 26,
   "metadata": {},
   "outputs": [
    {
     "data": {
      "text/plain": [
       "array([[0.01736161],\n",
       "       [0.01939116],\n",
       "       [0.06210799],\n",
       "       [0.09771921],\n",
       "       [0.22559793]])"
      ]
     },
     "execution_count": 26,
     "metadata": {},
     "output_type": "execute_result"
    }
   ],
   "source": [
    "Xerr"
   ]
  },
  {
   "cell_type": "code",
   "execution_count": 27,
   "metadata": {},
   "outputs": [
    {
     "data": {
      "text/plain": [
       "array([ 0.09941813, -0.03648502, -0.04516397, ...,  0.0254037 ,\n",
       "       -0.1079705 ,  0.13140184])"
      ]
     },
     "execution_count": 27,
     "metadata": {},
     "output_type": "execute_result"
    }
   ],
   "source": [
    "Winc"
   ]
  },
  {
   "cell_type": "code",
   "execution_count": 28,
   "metadata": {},
   "outputs": [
    {
     "data": {
      "text/plain": [
       "array([[7.5922786 ],\n",
       "       [5.62434802],\n",
       "       [6.49622969],\n",
       "       ...,\n",
       "       [7.49348294],\n",
       "       [8.14855276],\n",
       "       [7.75712352]])"
      ]
     },
     "execution_count": 28,
     "metadata": {},
     "output_type": "execute_result"
    }
   ],
   "source": [
    "Xtemp"
   ]
  },
  {
   "cell_type": "code",
   "execution_count": null,
   "metadata": {},
   "outputs": [],
   "source": []
  },
  {
   "cell_type": "code",
   "execution_count": null,
   "metadata": {},
   "outputs": [],
   "source": []
  }
 ],
 "metadata": {
  "kernelspec": {
   "display_name": "Python 3",
   "language": "python",
   "name": "python3"
  },
  "language_info": {
   "codemirror_mode": {
    "name": "ipython",
    "version": 3
   },
   "file_extension": ".py",
   "mimetype": "text/x-python",
   "name": "python",
   "nbconvert_exporter": "python",
   "pygments_lexer": "ipython3",
   "version": "3.7.4"
  }
 },
 "nbformat": 4,
 "nbformat_minor": 2
}
