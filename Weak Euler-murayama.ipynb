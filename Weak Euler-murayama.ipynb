{
 "cells": [
  {
   "cell_type": "code",
   "execution_count": 2,
   "metadata": {},
   "outputs": [],
   "source": [
    "import numpy as np\n",
    "import matplotlib.pyplot as plt\n",
    "%matplotlib inline\n",
    "import seaborn as sns"
   ]
  },
  {
   "cell_type": "code",
   "execution_count": 4,
   "metadata": {},
   "outputs": [],
   "source": [
    "r=np.random.RandomState(100)\n",
    "lamb=2; mu=0.1;\n",
    "Xzero=1; T=1; M=5000;\n",
    "Xem=np.zeros((5,1))\n"
   ]
  },
  {
   "cell_type": "code",
   "execution_count": 28,
   "metadata": {},
   "outputs": [],
   "source": [
    "for p in range(1,5):\n",
    "    Dt=2**(p-10); L=T//Dt\n",
    "    Xtemp= Xzero*np.ones((M,1))\n",
    "    for j in range(1,int(L)):\n",
    "        Winc=np.sqrt(Dt)*np.random.randn(M,1)\n",
    "        Xtemp=Xtemp+Dt*lamb*Xtemp+mu*Xtemp*Winc\n",
    "    Xem[p]=np.mean(Xtemp)\n",
    "Xerr=np.abs(Xem-np.exp(lamb))"
   ]
  },
  {
   "cell_type": "code",
   "execution_count": 34,
   "metadata": {},
   "outputs": [
    {
     "data": {
      "text/plain": [
       "[<matplotlib.lines.Line2D at 0x589f6a0>]"
      ]
     },
     "execution_count": 34,
     "metadata": {},
     "output_type": "execute_result"
    },
    {
     "data": {
      "image/png": "[encoded data removed]",
      "text/plain": [
       "<Figure size 432x288 with 1 Axes>"
      ]
     },
     "metadata": {},
     "output_type": "display_data"
    }
   ],
   "source": [
    "Dtvals=2*(np.power(2,range(5)))\n",
    "plt.loglog(Dtvals, Xerr)\n",
    "plt.loglog(Dtvals,Dtvals)\n",
    "#plt.axis([1e-3, 1e-1, 1e-4, 1])\n"
   ]
  },
  {
   "cell_type": "code",
   "execution_count": 32,
   "metadata": {},
   "outputs": [
    {
     "data": {
      "text/plain": [
       "array([[7.3890561 ],\n",
       "       [0.06015564],\n",
       "       [0.12342955],\n",
       "       [0.22701705],\n",
       "       [0.43499158]])"
      ]
     },
     "execution_count": 32,
     "metadata": {},
     "output_type": "execute_result"
    }
   ],
   "source": [
    "Xerr"
   ]
  },
  {
   "cell_type": "code",
   "execution_count": 33,
   "metadata": {},
   "outputs": [
    {
     "data": {
      "text/plain": [
       "array([[0.        ],\n",
       "       [7.32890045],\n",
       "       [7.26562655],\n",
       "       [7.16203905],\n",
       "       [6.95406452]])"
      ]
     },
     "execution_count": 33,
     "metadata": {},
     "output_type": "execute_result"
    }
   ],
   "source": [
    "Xem"
   ]
  },
  {
   "cell_type": "code",
   "execution_count": null,
   "metadata": {},
   "outputs": [],
   "source": []
  }
 ],
 "metadata": {
  "kernelspec": {
   "display_name": "Python 3",
   "language": "python",
   "name": "python3"
  },
  "language_info": {
   "codemirror_mode": {
    "name": "ipython",
    "version": 3
   },
   "file_extension": ".py",
   "mimetype": "text/x-python",
   "name": "python",
   "nbconvert_exporter": "python",
   "pygments_lexer": "ipython3",
   "version": "3.6.5"
  }
 },
 "nbformat": 4,
 "nbformat_minor": 2
}
